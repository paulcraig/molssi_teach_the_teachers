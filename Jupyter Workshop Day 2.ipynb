{
 "cells": [
  {
   "cell_type": "markdown",
   "metadata": {},
   "source": [
    "## Geometry Analysis Project Solution\n",
    "### August 9, 2019"
   ]
  },
  {
   "cell_type": "code",
   "execution_count": 3,
   "metadata": {},
   "outputs": [
    {
     "name": "stdout",
     "output_type": "stream",
     "text": [
      "O to H1 : 0.969\n",
      "O to H2 : 0.969\n",
      "H1 to O : 0.969\n",
      "H2 to O : 0.969\n",
      "O to H1 : 0.969\n",
      "O to H2 : 0.969\n"
     ]
    }
   ],
   "source": [
    "# Could have been solved using genfromtxt or readline\n",
    "import numpy\n",
    "import os\n",
    "\n",
    "file_location = os.path.join('data', 'water.xyz')\n",
    "xyz_file = numpy.genfromtxt(fname = file_location, skip_header = 2, dtype = 'unicode')\n",
    "# you must use skip header to get rid of lines that don't contain the same number of columns\n",
    "\n",
    "# Separate data types\n",
    "\n",
    "symbols = xyz_file[:,0] #symbols are already strings\n",
    "coordinates = xyz_file[:,1:]\n",
    "\n",
    "#recast the coordinates as floats\n",
    "\n",
    "coordinates = coordinates.astype(numpy.float)\n",
    "\n",
    "# Need to calculate the distance from every atom to every other atom, using a nest for loop\n",
    "# For the nested for loop, both loops count over the same things\n",
    "\n",
    "num_atoms = len(symbols)\n",
    "\n",
    "for num1 in range(0,num_atoms):\n",
    "    for num2 in range(0,num_atoms):\n",
    "        x_distance = coordinates[num1,0] - coordinates[num2,0]\n",
    "        y_distance = coordinates[num1,1] - coordinates[num2,1]\n",
    "        z_distance = coordinates[num1,2] - coordinates[num2,2]\n",
    "        bond_length_12 = numpy.sqrt(x_distance**2 + y_distance**2 + z_distance**2)\n",
    "        if bond_length_12 > 0 and bond_length_12 < 1.5: # to not print the self-self measurements\n",
    "            print(F'{symbols[num1]} to {symbols[num2]} : {bond_length_12:.3f}')\n",
    "            \n",
    "# if you only want to measure one time for each pair\n",
    "\n",
    "for num1 in range(0,num_atoms):\n",
    "    for num2 in range(0,num_atoms):\n",
    "        if num1 < num2:\n",
    "            x_distance = coordinates[num1,0] - coordinates[num2,0]\n",
    "            y_distance = coordinates[num1,1] - coordinates[num2,1]\n",
    "            z_distance = coordinates[num1,2] - coordinates[num2,2]\n",
    "            bond_length_12 = numpy.sqrt(x_distance**2 + y_distance**2 + z_distance**2)\n",
    "            if bond_length_12 > 0 and bond_length_12 < 1.5: # to not print the self-self measurements\n",
    "                print(F'{symbols[num1]} to {symbols[num2]} : {bond_length_12:.3f}')"
   ]
  },
  {
   "cell_type": "markdown",
   "metadata": {},
   "source": [
    "## Refactoring Code with Functions"
   ]
  },
  {
   "cell_type": "code",
   "execution_count": 19,
   "metadata": {},
   "outputs": [],
   "source": [
    "# to reuse the above code, you would have to rewrite everything or cut and paste\n",
    "# better to create a function that calculates a distance and call that function when you need it\n",
    "# the most compelling reason to write function (code easier to read, code more reusable, MAKES CODE EASIER TO TEST)\n",
    "\n",
    "# syntax for defining a function\n",
    "# def function_name(parameters (inputs for the function to accept)):\n",
    "#     function code goes here\n",
    "#     could be multiple lines\n",
    "#     return value_to_return\n",
    "\n",
    "# function for calculating the distance between two atoms\n",
    "# Start: forget where the data is coming from - what is the best way to do this math operation\n",
    "\n",
    "def calculate_distance(atom1_coord, atom2_coord):\n",
    "    \"\"\"\n",
    "    This function takes to coordinates of two atoms and calculates the distance between them.\n",
    "    Inputs: atom1_coord, atom2_coord\n",
    "    Return: distance\n",
    "    \"\"\"\n",
    "    x_distance = atom1_coord[0] - atom2_coord[0]\n",
    "    y_distance = atom1_coord[1] - atom2_coord[1]\n",
    "    z_distance = atom1_coord[2] - atom2_coord[2]\n",
    "    distance = numpy.sqrt(x_distance**2 + y_distance**2 + z_distance**2)\n",
    "    return distance # must be something calculated in the body of code\n",
    "\n",
    "# make sure to execute the cell when you define a function\n",
    "# when defining a function, think about the simplest set of inputs and outputs\n",
    "# when you want to use a function, think about the inputs you need to provide and the output you want to receive\n",
    "# you can use a docstring to create a help entry for a function"
   ]
  },
  {
   "cell_type": "code",
   "execution_count": 14,
   "metadata": {},
   "outputs": [
    {
     "name": "stdout",
     "output_type": "stream",
     "text": [
      "O to H1 : 0.969\n",
      "O to H2 : 0.969\n"
     ]
    }
   ],
   "source": [
    "for num1 in range(0,num_atoms):\n",
    "    for num2 in range(0,num_atoms):\n",
    "        if num1 < num2:\n",
    "            bond_length_12 = calculate_distance(coordinates[num1], coordinates[num2])\n",
    "            if bond_length_12 > 0 and bond_length_12 < 1.5: # to not print the self-self measurements\n",
    "                print(F'{symbols[num1]} to {symbols[num2]} : {bond_length_12:.3f}')"
   ]
  },
  {
   "cell_type": "code",
   "execution_count": 20,
   "metadata": {},
   "outputs": [
    {
     "name": "stdout",
     "output_type": "stream",
     "text": [
      "Help on function calculate_distance in module __main__:\n",
      "\n",
      "calculate_distance(atom1_coord, atom2_coord)\n",
      "    This function takes to coordinates of two atoms and calculates the distance between them.\n",
      "    Inputs: atom1_coord, atom2_coord\n",
      "    Return: distance\n",
      "\n"
     ]
    }
   ],
   "source": [
    "help(calculate_distance)"
   ]
  },
  {
   "cell_type": "code",
   "execution_count": 29,
   "metadata": {},
   "outputs": [],
   "source": [
    "# Write function called bond_check to check and see if a distance is between 0 and 1.5 angtroms.\n",
    "# Return True or False\n",
    "\n",
    "def bond_check(distance, minimum_length, maximum_length):\n",
    "    \"\"\"\n",
    "    This function determines if a distance is between the specified minimum and maximum values. It returns true or false\n",
    "    Input: distance, minimum_length, maximum_length\n",
    "    Return: Boolean True or False\n",
    "    \"\"\"\n",
    "    if distance > minimum_length and distance < maximum_length:\n",
    "        return True\n",
    "    else:\n",
    "        return False\n",
    "    "
   ]
  },
  {
   "cell_type": "code",
   "execution_count": 37,
   "metadata": {},
   "outputs": [
    {
     "data": {
      "text/plain": [
       "True"
      ]
     },
     "execution_count": 37,
     "metadata": {},
     "output_type": "execute_result"
    }
   ],
   "source": [
    "# Check the function\n",
    "bond_check(1,0,1.6)"
   ]
  },
  {
   "cell_type": "code",
   "execution_count": 44,
   "metadata": {},
   "outputs": [],
   "source": [
    "# Write function called bond_check to check and see if a distance is between 0 and 1.5 angtroms.\n",
    "# Return True or False\n",
    "\n",
    "def bond_check(distance, minimum_length=0, maximum_length=1.5):\n",
    "    \"\"\"\n",
    "    This function determines if a distance is between the specified minimum and maximum values. \n",
    "    The specified minimum is 0 Angstroms and the default maximum value is 1.5 Angstroms.It returns true or false\n",
    "    Input: distance, minimum_length, maximum_length\n",
    "    Return: Boolean True or False\n",
    "    \"\"\"\n",
    "    if distance > minimum_length and distance <= maximum_length:\n",
    "        return True\n",
    "    else:\n",
    "        return False\n",
    "    "
   ]
  },
  {
   "cell_type": "code",
   "execution_count": 35,
   "metadata": {},
   "outputs": [
    {
     "data": {
      "text/plain": [
       "True"
      ]
     },
     "execution_count": 35,
     "metadata": {},
     "output_type": "execute_result"
    }
   ],
   "source": [
    "bond_check(1)"
   ]
  },
  {
   "cell_type": "code",
   "execution_count": 42,
   "metadata": {},
   "outputs": [
    {
     "data": {
      "text/plain": [
       "True"
      ]
     },
     "execution_count": 42,
     "metadata": {},
     "output_type": "execute_result"
    }
   ],
   "source": [
    "bond_check(1.5,minimum_length=0)"
   ]
  },
  {
   "cell_type": "code",
   "execution_count": 46,
   "metadata": {},
   "outputs": [
    {
     "name": "stdout",
     "output_type": "stream",
     "text": [
      "O to H1 : 0.969\n",
      "O to H2 : 0.969\n"
     ]
    }
   ],
   "source": [
    "for num1 in range(0,num_atoms):\n",
    "    for num2 in range(0,num_atoms):\n",
    "        if num1 < num2:\n",
    "            bond_length_12 = calculate_distance(coordinates[num1], coordinates[num2])\n",
    "            if bond_check(bond_length_12) is True:\n",
    "                print(F'{symbols[num1]} to {symbols[num2]} : {bond_length_12:.3f}')"
   ]
  },
  {
   "cell_type": "code",
   "execution_count": 74,
   "metadata": {},
   "outputs": [],
   "source": [
    "# Write a function that reads in and processes and xyz file.\n",
    "# function name open_xyz\n",
    "# Input filename\n",
    "# Two outputs: symbols and coordinates\n",
    "\n",
    "def open_xyz(file_location):\n",
    "    \"\"\"\n",
    "    Opens and processes a standard format xyz file and returns two outputs: the symbols and a numpy array of coordinates\n",
    "    \"\"\"\n",
    "    xyz_file = numpy.genfromtxt(fname = file_location, skip_header = 2, dtype = 'unicode')\n",
    "    # you must use skip header to get rid of lines that don't contain the same number of columns\n",
    "    \n",
    "    # Separate data types\n",
    "    symbols = xyz_file[:,0] #symbols are already strings\n",
    "    coordinates = xyz_file[:,1:]\n",
    "    coordinates = coordinates.astype(numpy.float)\n",
    "    return symbols, coordinates"
   ]
  },
  {
   "cell_type": "code",
   "execution_count": 77,
   "metadata": {},
   "outputs": [],
   "source": [
    "file_location = os.path.join('data', 'water.xyz')\n",
    "molecule_symbols, molecule_coordinates = open_xyz(file_location)"
   ]
  },
  {
   "cell_type": "code",
   "execution_count": 78,
   "metadata": {},
   "outputs": [
    {
     "name": "stdout",
     "output_type": "stream",
     "text": [
      "['O' 'H1' 'H2']\n"
     ]
    }
   ],
   "source": [
    "print(molecule_symbols)"
   ]
  },
  {
   "cell_type": "code",
   "execution_count": 79,
   "metadata": {},
   "outputs": [
    {
     "name": "stdout",
     "output_type": "stream",
     "text": [
      "[[ 0.       -0.007156  0.965491]\n",
      " [-0.        0.001486 -0.003471]\n",
      " [ 0.        0.931026  1.207929]]\n"
     ]
    }
   ],
   "source": [
    "print(molecule_coordinates)"
   ]
  },
  {
   "cell_type": "code",
   "execution_count": 80,
   "metadata": {},
   "outputs": [
    {
     "name": "stdout",
     "output_type": "stream",
     "text": [
      "['C' 'H' 'C' 'H' 'C' 'H' 'C' 'H' 'C' 'H' 'C' 'H']\n",
      "[[ 0.       1.40272  0.     ]\n",
      " [ 0.       2.49029  0.     ]\n",
      " [-1.21479  0.70136  0.     ]\n",
      " [-2.15666  1.24515  0.     ]\n",
      " [-1.21479 -0.70136  0.     ]\n",
      " [-2.15666 -1.24515  0.     ]\n",
      " [ 0.      -1.40272  0.     ]\n",
      " [ 0.      -2.49029  0.     ]\n",
      " [ 1.21479 -0.70136  0.     ]\n",
      " [ 2.15666 -1.24515  0.     ]\n",
      " [ 1.21479  0.70136  0.     ]\n",
      " [ 2.15666  1.24515  0.     ]]\n"
     ]
    }
   ],
   "source": [
    "file_location = os.path.join('data', 'benzene.xyz')\n",
    "molecule_symbols, molecule_coordinates = open_xyz(file_location)\n",
    "print(molecule_symbols)\n",
    "print(molecule_coordinates)"
   ]
  },
  {
   "cell_type": "code",
   "execution_count": 84,
   "metadata": {},
   "outputs": [
    {
     "name": "stdout",
     "output_type": "stream",
     "text": [
      "O to H1 : 0.969\n",
      "O to H2 : 0.969\n"
     ]
    }
   ],
   "source": [
    "import numpy\n",
    "import os\n",
    "\n",
    "def open_xyz(file_location):\n",
    "    \"\"\"\n",
    "    Opens and processes a standard format xyz file and returns two outputs: the symbols and a numpy array of coordinates\n",
    "    \"\"\"\n",
    "    xyz_file = numpy.genfromtxt(fname = file_location, skip_header = 2, dtype = 'unicode')\n",
    "    # you must use skip header to get rid of lines that don't contain the same number of columns\n",
    "    \n",
    "    # Separate data types\n",
    "    symbols = xyz_file[:,0] #symbols are already strings\n",
    "    coordinates = xyz_file[:,1:]\n",
    "    coordinates = coordinates.astype(numpy.float)\n",
    "    return symbols, coordinates\n",
    "\n",
    "def bond_check(distance, minimum_length=0, maximum_length=1.5):\n",
    "    \"\"\"\n",
    "    This function determines if a distance is between the specified minimum and maximum values. \n",
    "    The specified minimum is 0 Angstroms and the default maximum value is 1.5 Angstroms.It returns true or false\n",
    "    Input: distance, minimum_length, maximum_length\n",
    "    Return: Boolean True or False\n",
    "    \"\"\"\n",
    "    if distance > minimum_length and distance <= maximum_length:\n",
    "        return True\n",
    "    else:\n",
    "        return False\n",
    "    \n",
    "def calculate_distance(atom1_coord, atom2_coord):\n",
    "    \"\"\"\n",
    "    This function takes to coordinates of two atoms and calculates the distance between them.\n",
    "    Inputs: atom1_coord, atom2_coord\n",
    "    Return: distance\n",
    "    \"\"\"\n",
    "    x_distance = atom1_coord[0] - atom2_coord[0]\n",
    "    y_distance = atom1_coord[1] - atom2_coord[1]\n",
    "    z_distance = atom1_coord[2] - atom2_coord[2]\n",
    "    distance = numpy.sqrt(x_distance**2 + y_distance**2 + z_distance**2)\n",
    "    return distance # must be something calculated in the body of code  \n",
    "\n",
    "file_location = os.path.join('data', 'water.xyz')\n",
    "symbols, coord = open_xyz(file_location)\n",
    "num_atoms = len(symbols)\n",
    "for num1 in range(0,num_atoms):\n",
    "    for num2 in range(0,num_atoms):\n",
    "        if num1<num2:\n",
    "            bond_length_12 = calculate_distance(coord[num1], coord[num2])\n",
    "            if bond_check(bond_length_12) is True:\n",
    "                print(F'{symbols[num1]} to {symbols[num2]} : {bond_length_12:.3f}')"
   ]
  },
  {
   "cell_type": "code",
   "execution_count": null,
   "metadata": {},
   "outputs": [],
   "source": []
  }
 ],
 "metadata": {
  "kernelspec": {
   "display_name": "Python 3",
   "language": "python",
   "name": "python3"
  },
  "language_info": {
   "codemirror_mode": {
    "name": "ipython",
    "version": 3
   },
   "file_extension": ".py",
   "mimetype": "text/x-python",
   "name": "python",
   "nbconvert_exporter": "python",
   "pygments_lexer": "ipython3",
   "version": "3.7.3"
  }
 },
 "nbformat": 4,
 "nbformat_minor": 2
}
